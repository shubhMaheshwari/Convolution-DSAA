{
 "cells": [
  {
   "cell_type": "markdown",
   "metadata": {},
   "source": [
    "# Finding the 1-D filter"
   ]
  },
  {
   "cell_type": "code",
   "execution_count": 3,
   "metadata": {
    "collapsed": false,
    "scrolled": false
   },
   "outputs": [
    {
     "name": "stdout",
     "output_type": "stream",
     "text": [
      "\n",
      "inp =\n",
      "\n",
      "    12    20     3    10    22    19    23    16     0    21    23    16    18\n",
      "\n",
      "\n",
      "inp_size =\n",
      "\n",
      "    13\n",
      "\n"
     ]
    }
   ],
   "source": [
    "inp = [12, 20, 3, 10, 22, 19, 23, 16, 0, 21, 23, 16, 18]\n",
    "inp_size = size(inp,2)"
   ]
  },
  {
   "cell_type": "code",
   "execution_count": 4,
   "metadata": {
    "collapsed": false
   },
   "outputs": [
    {
     "name": "stdout",
     "output_type": "stream",
     "text": [
      "\n",
      "out =\n",
      "\n",
      "    75    52    33    97   251   211    63    65\n",
      "\n",
      "\n",
      "out_size =\n",
      "\n",
      "     8\n",
      "\n"
     ]
    }
   ],
   "source": [
    "out = [75, 52, 33, 97, 251, 211, 63, 65]\n",
    "out_size = size(out,2)"
   ]
  },
  {
   "cell_type": "markdown",
   "metadata": {},
   "source": [
    "### Method:\n",
    "\n",
    "- Using Linear regressio we will try to find the filter\n",
    "- Hence we are assuming random values in beginning\n",
    "\n",
    "- We will calculate the pred_out \n",
    "- We will find the loss and gradient"
   ]
  },
  {
   "cell_type": "markdown",
   "metadata": {},
   "source": [
    "## Using Normalize equations "
   ]
  },
  {
   "cell_type": "code",
   "execution_count": 7,
   "metadata": {
    "collapsed": true
   },
   "outputs": [],
   "source": [
    "% Assuming stride = 1\n",
    "% Assuming padding = 0\n",
    "filter_size = (size(inp,2) - size(out,2) + 1);\n"
   ]
  },
  {
   "cell_type": "code",
   "execution_count": 8,
   "metadata": {
    "collapsed": false
   },
   "outputs": [
    {
     "name": "stdout",
     "output_type": "stream",
     "text": [
      "\n",
      "inp_pred =\n",
      "\n",
      "    12    20     3    10    22    19    23    16\n",
      "    20     3    10    22    19    23    16     0\n",
      "     3    10    22    19    23    16     0    21\n",
      "    10    22    19    23    16     0    21    23\n",
      "    22    19    23    16     0    21    23    16\n",
      "    19    23    16     0    21    23    16    18\n",
      "\n"
     ]
    }
   ],
   "source": [
    "inp_pred = zeros(filter_size,out_size);\n",
    "for i = 1:inp_size - filter_size + 1\n",
    "    inp_pred(:,i) = inp(i:i+filter_size-1);\n",
    "end\n",
    "inp_pred"
   ]
  },
  {
   "cell_type": "code",
   "execution_count": 9,
   "metadata": {
    "collapsed": false
   },
   "outputs": [
    {
     "name": "stdout",
     "output_type": "stream",
     "text": [
      "\n",
      "filter =\n",
      "\n",
      "    5.0000    4.0000    4.0000   -3.0000   -3.0000    1.0000\n",
      "\n"
     ]
    }
   ],
   "source": [
    "filter = out*pinv(inp_pred)"
   ]
  },
  {
   "cell_type": "markdown",
   "metadata": {},
   "source": [
    "## Using Gradient Desent"
   ]
  },
  {
   "cell_type": "code",
   "execution_count": 10,
   "metadata": {
    "collapsed": false,
    "scrolled": false
   },
   "outputs": [
    {
     "name": "stdout",
     "output_type": "stream",
     "text": [
      "\n",
      "FILTER =\n",
      "\n",
      "    8.1472    9.0579    1.2699    9.1338    6.3236    0.9754\n",
      "\n"
     ]
    }
   ],
   "source": [
    "epoch = 1000; \n",
    "lr = 0.001;\n",
    "FILTER = rand(1,filter_size).*10"
   ]
  },
  {
   "cell_type": "code",
   "execution_count": 18,
   "metadata": {
    "collapsed": false
   },
   "outputs": [],
   "source": [
    "for ind = 1:epoch\n",
    "\n",
    "out_pred = FILTER*inp_pred;\n",
    "loss = sum((out - out_pred).^2)/(2*out_size);\n",
    "gradient = (out_pred - out)*inp_pred'/out_size;\n",
    "FILTER = FILTER - lr.*gradient;\n",
    "\n",
    "end"
   ]
  },
  {
   "cell_type": "code",
   "execution_count": 16,
   "metadata": {
    "collapsed": false,
    "scrolled": true
   },
   "outputs": [
    {
     "name": "stdout",
     "output_type": "stream",
     "text": [
      "\n",
      "FILTER =\n",
      "\n",
      "     5     4     4    -3    -3     1\n",
      "\n",
      "\n",
      "out_pred =\n",
      "\n",
      "    75    52    33    97   251   211    63    65\n",
      "\n",
      "\n",
      "out =\n",
      "\n",
      "    75    52    33    97   251   211    63    65\n",
      "\n"
     ]
    }
   ],
   "source": [
    "FILTER = round(FILTER)\n",
    "out_pred = FILTER*inp_pred\n",
    "out"
   ]
  },
  {
   "cell_type": "code",
   "execution_count": 17,
   "metadata": {
    "collapsed": false,
    "scrolled": true
   },
   "outputs": [
    {
     "name": "stdout",
     "output_type": "stream",
     "text": [
      "\n",
      "FILTER =\n",
      "\n",
      "     1    -3    -3     4     4     5\n",
      "\n"
     ]
    }
   ],
   "source": [
    "FILTER = flip(FILTER)"
   ]
  },
  {
   "cell_type": "code",
   "execution_count": null,
   "metadata": {
    "collapsed": true
   },
   "outputs": [],
   "source": []
  }
 ],
 "metadata": {
  "kernelspec": {
   "display_name": "Matlab",
   "language": "matlab",
   "name": "matlab"
  },
  "language_info": {
   "codemirror_mode": "octave",
   "file_extension": ".m",
   "help_links": [
    {
     "text": "MetaKernel Magics",
     "url": "https://github.com/calysto/metakernel/blob/master/metakernel/magics/README.md"
    }
   ],
   "mimetype": "text/x-octave",
   "name": "matlab",
   "version": "0.15.0"
  }
 },
 "nbformat": 4,
 "nbformat_minor": 2
}
