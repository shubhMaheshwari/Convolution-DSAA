{
 "cells": [
  {
   "cell_type": "markdown",
   "metadata": {},
   "source": [
    "# Outsize after convolution"
   ]
  },
  {
   "cell_type": "markdown",
   "metadata": {},
   "source": [
    "We are given \n",
    "\t- Image size \t = Width, Height, Channels\n",
    "\t- No. of filters = N \n",
    "\t- filter size \t = F,F,Channels\n",
    "\t- Stride \t\t = S\n",
    "\t- padding \t\t = Z\n",
    "\n",
    "Output Size = N*(Width - F + 2P)/S  + 1, N*(Height -F +2P)/S + 1, Channels)   "
   ]
  },
  {
   "cell_type": "markdown",
   "metadata": {},
   "source": [
    "# No. of Muliplications: "
   ]
  },
  {
   "cell_type": "markdown",
   "metadata": {},
   "source": [
    "Multiplications in 1 Operation = F*F\n",
    "Addition in 1 Operation = 1 \n",
    "Total Operations = Output_width*Output_Height*Channels\n",
    "\n",
    "Total Multiplication = (F*F) * (Output_width*Output_Height*Channels)\n",
    "Total Addition = 1 * Output_width*Output_Height*Channels\n",
    "\n"
   ]
  },
  {
   "cell_type": "markdown",
   "metadata": {},
   "source": [
    "<a href='http://cs231n.github.io/convolutional-networks/'> Reference </a>"
   ]
  },
  {
   "cell_type": "code",
   "execution_count": null,
   "metadata": {
    "collapsed": true
   },
   "outputs": [],
   "source": []
  }
 ],
 "metadata": {
  "kernelspec": {
   "display_name": "Matlab",
   "language": "matlab",
   "name": "matlab"
  },
  "language_info": {
   "codemirror_mode": "octave",
   "file_extension": ".m",
   "help_links": [
    {
     "text": "MetaKernel Magics",
     "url": "https://github.com/calysto/metakernel/blob/master/metakernel/magics/README.md"
    }
   ],
   "mimetype": "text/x-octave",
   "name": "matlab",
   "version": "0.15.0"
  }
 },
 "nbformat": 4,
 "nbformat_minor": 2
}
